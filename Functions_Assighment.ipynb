{
  "nbformat": 4,
  "nbformat_minor": 0,
  "metadata": {
    "colab": {
      "provenance": []
    },
    "kernelspec": {
      "name": "python3",
      "display_name": "Python 3"
    },
    "language_info": {
      "name": "python"
    }
  },
  "cells": [
    {
      "cell_type": "markdown",
      "source": [
        "1. What is the difference between a function and a method in Python?\n",
        "  - A function is the block of code that use in the repeated place in the code( DRY priciple) , it can be declared with th ekey word \"def\"\n",
        "   \n",
        "  - a method is derived from the class , it is associated with the object of a class\n",
        "   \n"
      ],
      "metadata": {
        "id": "YMU1HGDS0QcT"
      }
    },
    {
      "cell_type": "code",
      "source": [
        "# Function Example\n",
        "def sum_of_numbers(a,b):\n",
        "      return  a+b\n",
        "\n",
        "# Method Example\n",
        "class Student:\n",
        "    def get_student_info(self):\n",
        "        return \"Hello\"\n"
      ],
      "metadata": {
        "id": "EYQ_CGfE2c5A"
      },
      "execution_count": null,
      "outputs": []
    },
    {
      "cell_type": "markdown",
      "source": [
        "2. Explain the concept of function arguments and parameters in Python.\n",
        "    - Parameter → variable assigned  in the function construction.\n",
        "\n",
        "    - Argument → actual value passed when calling the function."
      ],
      "metadata": {
        "id": "leew02V-3mMk"
      }
    },
    {
      "cell_type": "code",
      "source": [
        "def student_info(name, age):\n",
        "  return (f\"student Name: {name}, :Age: {age}\")\n",
        "\n",
        "student_info(\"jhon smith\", 25)"
      ],
      "metadata": {
        "colab": {
          "base_uri": "https://localhost:8080/",
          "height": 36
        },
        "id": "9rb2o0Pt0lkl",
        "outputId": "390335c9-a42e-4256-abbd-eaa487f69be8"
      },
      "execution_count": null,
      "outputs": [
        {
          "output_type": "execute_result",
          "data": {
            "text/plain": [
              "'student Name: jhon smith, :Age: 25'"
            ],
            "application/vnd.google.colaboratory.intrinsic+json": {
              "type": "string"
            }
          },
          "metadata": {},
          "execution_count": 5
        }
      ]
    },
    {
      "cell_type": "markdown",
      "source": [
        "3. What are the different ways to define and call a function in Python?\n",
        "\n",
        "  - Defining:\n",
        "      - Using def keyword\n",
        "  - Using lambda (anonymous function)\n",
        "  - Calling:\n",
        "      - Positional arguments → func(1, 2)\n",
        "      - Keyword arguments → func(a=1, b=2)\n",
        "      - Default arguments → def func(a, b=10)\n",
        "      - Variable arguments → *args, **kwargs\n",
        "    "
      ],
      "metadata": {
        "id": "5f1ZQ2Eu4b21"
      }
    },
    {
      "cell_type": "markdown",
      "source": [
        "\n",
        "4. What is the purpose of the `return` statement in a Python function?\n",
        "  - Sends a value from the function back to the caller.\n",
        "  - Ends the execution of the function.\n",
        "  - If not used, function returns None by default."
      ],
      "metadata": {
        "id": "KJj2p2-D5WIj"
      }
    },
    {
      "cell_type": "markdown",
      "source": [
        "5. What are iterators in Python and how do they differ from iterables?\n",
        "  - Iterable → Object that can be looped over (e.g., list, tuple, string)\n",
        "  - Provides an iterator via iter()\n",
        "  - Iterator → Object that produces elements one at a time using next()."
      ],
      "metadata": {
        "id": "CGrgyZuY6QHF"
      }
    },
    {
      "cell_type": "code",
      "source": [
        "nums = [1, 2, 3]     # Iterable\n",
        "it = iter(nums)      # Iterator\n",
        "print(next(it))"
      ],
      "metadata": {
        "id": "LnGVGb4V6a-k"
      },
      "execution_count": null,
      "outputs": []
    },
    {
      "cell_type": "markdown",
      "source": [
        "6. Explain the concept of generators in Python and how they are defined.\n",
        "  - A generator is a special kind of iterator created using yield keyword inside a function.\n",
        "  - They generate values on the fly (lazy evaluation)."
      ],
      "metadata": {
        "id": "-cyQK2nr8akl"
      }
    },
    {
      "cell_type": "code",
      "source": [
        "def gen():\n",
        "    yield 1\n",
        "    yield 2"
      ],
      "metadata": {
        "id": "HpFdDMGs41An"
      },
      "execution_count": null,
      "outputs": []
    },
    {
      "cell_type": "markdown",
      "source": [
        "7. What are the advantages of using generators over regular functions?\n",
        "  - Memory efficient (no need to store the whole sequence).\n",
        "  - Infinite sequences possible.\n",
        "  - Faster for large datasets."
      ],
      "metadata": {
        "id": "P4PHBkui8HBQ"
      }
    },
    {
      "cell_type": "markdown",
      "source": [
        "\n",
        "8. What is a lambda function in Python and when is it typically used?\n",
        "   - Anonymous (nameless) one-line functions using lambda.\n",
        "   - Often used for short, simple operations.\n",
        "   - it is used only not used in th emultipl eplace, and list sorting teqniques"
      ],
      "metadata": {
        "id": "sVh9LTSN8zYY"
      }
    },
    {
      "cell_type": "code",
      "source": [
        "square = lambda x: x * x\n",
        "print(square(5))\n"
      ],
      "metadata": {
        "colab": {
          "base_uri": "https://localhost:8080/"
        },
        "id": "48M_JFC68ON5",
        "outputId": "3f4d5cb4-7cef-48a6-ddee-bcdf6f9190be"
      },
      "execution_count": null,
      "outputs": [
        {
          "output_type": "stream",
          "name": "stdout",
          "text": [
            "25\n"
          ]
        }
      ]
    },
    {
      "cell_type": "markdown",
      "source": [
        "9. Explain the purpose and usage of the `map()` function in Python.\n",
        "  - Applies a function to every element of an iterable.\n",
        "\n"
      ],
      "metadata": {
        "id": "5gde74049wmp"
      }
    },
    {
      "cell_type": "code",
      "source": [
        "nums = [1, 2, 3]\n",
        "squares = map(lambda x: x**2, nums)\n",
        "print(list(squares))"
      ],
      "metadata": {
        "colab": {
          "base_uri": "https://localhost:8080/"
        },
        "id": "V5uIbLy498pu",
        "outputId": "5e6b66ab-efe4-4f4e-8b5c-0327a58ebd73"
      },
      "execution_count": null,
      "outputs": [
        {
          "output_type": "stream",
          "name": "stdout",
          "text": [
            "[1, 4, 9]\n"
          ]
        }
      ]
    },
    {
      "cell_type": "markdown",
      "source": [
        "10. What is the difference between `map()`, `reduce()`, and `filter()` functions in Python?\n",
        "  - map(func, iterable) → applies func to each element.\n",
        "  - filter(func, iterable) → keeps only elements where func returns True.\n",
        "  - reduce(func, iterable) → reduces iterable to a single value by repeatedly applying func."
      ],
      "metadata": {
        "id": "jYhOvDTa90gV"
      }
    },
    {
      "cell_type": "code",
      "source": [
        "from functools import reduce\n",
        "nums = [1, 2, 3, 4]\n",
        "\n",
        "print(list(map(lambda x: x*2, nums)))       # [2,4,6,8]\n",
        "print(list(filter(lambda x: x%2==0, nums))) # [2,4]\n",
        "print(reduce(lambda x,y: x+y, nums))"
      ],
      "metadata": {
        "colab": {
          "base_uri": "https://localhost:8080/"
        },
        "id": "mBy3w_a69Iwm",
        "outputId": "fec7f312-93a6-43ea-dad7-cd6b19d67c8b"
      },
      "execution_count": null,
      "outputs": [
        {
          "output_type": "stream",
          "name": "stdout",
          "text": [
            "[2, 4, 6, 8]\n",
            "[2, 4]\n",
            "10\n"
          ]
        }
      ]
    },
    {
      "cell_type": "code",
      "source": [
        "# 1. Write a Python function that takes a list of numbers as input\n",
        "#    and returns the sum of all even numbers in the list.\n",
        "def sum_of_even(nums):\n",
        "    return sum(x for x in nums if x % 2 == 0)\n",
        "\n",
        "print(\"1) Sum of even numbers:\", sum_of_even([1, 2, 3, 4, 5, 6]))  # 12\n",
        "\n",
        "\n",
        "# 2. Create a Python function that accepts a string\n",
        "#    and returns the reverse of that string.\n",
        "def reverse_string(s):\n",
        "    return s[::-1]\n",
        "\n",
        "print(\"2) Reverse string:\", reverse_string(\"Python\"))  # nohtyP\n",
        "\n",
        "\n",
        "# 3. Implement a Python function that takes a list of integers\n",
        "#    and returns a new list containing the squares of each number.\n",
        "def square_list(nums):\n",
        "    return [x**2 for x in nums]\n",
        "\n",
        "print(\"3) Squares of list:\", square_list([1, 2, 3, 4]))  # [1,4,9,16]\n",
        "\n",
        "\n",
        "# 4. Write a Python function that checks if a given number is prime\n",
        "#    or not from 1 to 200.\n",
        "def is_prime(n):\n",
        "    if n < 2:\n",
        "        return False\n",
        "    for i in range(2, int(n**0.5) + 1):\n",
        "        if n % i == 0:\n",
        "            return False\n",
        "    return True\n",
        "\n",
        "primes = [n for n in range(1, 201) if is_prime(n)]\n",
        "print(\"4) Prime numbers from 1 to 200:\", primes)\n",
        "\n",
        "# 5. Create an iterator class in Python that generates\n",
        "#    the Fibonacci sequence up to a specified number of terms.\n",
        "class Fibonacci:\n",
        "    def __init__(self, terms):\n",
        "        self.terms = terms\n",
        "        self.a, self.b = 0, 1\n",
        "        self.count = 0\n",
        "\n",
        "    def __iter__(self):\n",
        "        return self\n",
        "\n",
        "    def __next__(self):\n",
        "        if self.count < self.terms:\n",
        "            val = self.a\n",
        "            self.a, self.b = self.b, self.a + self.b\n",
        "            self.count += 1\n",
        "            return val\n",
        "        else:\n",
        "            raise StopIteration\n",
        "\n",
        "fib = Fibonacci(10)\n",
        "print(\"5) Fibonacci sequence:\", list(fib))\n",
        "\n",
        "\n",
        "# 6. Write a generator function in Python that yields\n",
        "#    the powers of 2 up to a given exponent.\n",
        "def powers_of_two(n):\n",
        "    for i in range(n+1):\n",
        "        yield 2**i\n",
        "\n",
        "print(\"6) Powers of 2:\", list(powers_of_two(5)))\n",
        "\n",
        "\n",
        "# 7. Implement a generator function that reads a file line by line\n",
        "#    and yields each line as a string.\n",
        "def read_file_lines(filename):\n",
        "    with open(filename, \"r\") as f:\n",
        "        for line in f:\n",
        "            yield line.strip()\n",
        "\n",
        "# Example usage (if you have a file):\n",
        "# for line in read_file_lines(\"file.txt\"):\n",
        "#     print(line)\n",
        "\n",
        "\n",
        "# 8. Use a lambda function in Python to sort a list of tuples\n",
        "#    based on the second element of each tuple.\n",
        "tuples = [(1, 5), (2, 1), (3, 7), (4, 2)]\n",
        "sorted_list = sorted(tuples, key=lambda x: x[1])\n",
        "print(\"8) Sorted tuples by 2nd element:\", sorted_list)\n",
        "\n",
        "\n",
        "# 9. Write a Python program that uses map()\n",
        "#    to convert a list of temperatures from Celsius to Fahrenheit.\n",
        "celsius = [0, 20, 30, 40]\n",
        "fahrenheit = list(map(lambda c: (c * 9/5) + 32, celsius))\n",
        "print(\"9) Celsius to Fahrenheit:\", fahrenheit)\n",
        "\n",
        "\n",
        "# 10. Create a Python program that uses filter()\n",
        "#     to remove all the vowels from a given string.\n",
        "def remove_vowels(s):\n",
        "    vowels = \"aeiouAEIOU\"\n",
        "    return \"\".join(filter(lambda ch: ch not in vowels, s))\n",
        "\n",
        "print(\"10) String without vowels:\", remove_vowels(\"Hello World\"))\n",
        "\n",
        "\n",
        "# 11. Imagine an accounting routine used in a book shop.\n",
        "#     It works on a list with sublists, which look like this:\n",
        "#\n",
        "#     Write a Python program, which returns a list with 2-tuples.\n",
        "#     Each tuple consists of the order number and the product\n",
        "#     of the price per item and the quantity.\n",
        "#     The product should be increased by 10,- €\n",
        "#     if the value of the order is smaller than 100,00 €.\n",
        "#\n",
        "#     Write a Python program using lambda and map.\n",
        "orders = [\n",
        "    [34587, \"Learning Python\", 4, 40.95],\n",
        "    [98762, \"Programming Python\", 5, 56.80],\n",
        "    [77226, \"Head First Python\", 3, 32.95],\n",
        "    [88112, \"Einführung in Python3\", 3, 24.99]\n",
        "]\n",
        "\n",
        "result = list(map(\n",
        "    lambda x: (x[0], x[2] * x[3] if x[2] * x[3] >= 100 else x[2] * x[3] + 10),\n",
        "    orders\n",
        "))\n",
        "print(\"11) Bookshop accounting result:\", result)\n"
      ],
      "metadata": {
        "id": "HhhGtNrD-CWE",
        "colab": {
          "base_uri": "https://localhost:8080/"
        },
        "outputId": "7802413e-b24f-46ae-c971-9394650b8023"
      },
      "execution_count": null,
      "outputs": [
        {
          "output_type": "stream",
          "name": "stdout",
          "text": [
            "1) Sum of even numbers: 12\n",
            "2) Reverse string: nohtyP\n",
            "3) Squares of list: [1, 4, 9, 16]\n",
            "4) Prime numbers from 1 to 200: [2, 3, 5, 7, 11, 13, 17, 19, 23, 29, 31, 37, 41, 43, 47, 53, 59, 61, 67, 71, 73, 79, 83, 89, 97, 101, 103, 107, 109, 113, 127, 131, 137, 139, 149, 151, 157, 163, 167, 173, 179, 181, 191, 193, 197, 199]\n",
            "5) Fibonacci sequence: [0, 1, 1, 2, 3, 5, 8, 13, 21, 34]\n",
            "6) Powers of 2: [1, 2, 4, 8, 16, 32]\n",
            "8) Sorted tuples by 2nd element: [(2, 1), (4, 2), (1, 5), (3, 7)]\n",
            "9) Celsius to Fahrenheit: [32.0, 68.0, 86.0, 104.0]\n",
            "10) String without vowels: Hll Wrld\n",
            "11) Bookshop accounting result: [(34587, 163.8), (98762, 284.0), (77226, 108.85000000000001), (88112, 84.97)]\n"
          ]
        }
      ]
    }
  ]
}